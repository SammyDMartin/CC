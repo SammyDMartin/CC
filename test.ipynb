{
  "cells": [
    {
      "cell_type": "markdown",
      "metadata": {
        "colab_type": "text",
        "id": "view-in-github"
      },
      "source": [
        "<a href=\"https://colab.research.google.com/github/SammyDMartin/CC/blob/main/test.ipynb\" target=\"_parent\"><img src=\"https://colab.research.google.com/assets/colab-badge.svg\" alt=\"Open In Colab\"/></a>"
      ]
    },
    {
      "cell_type": "code",
      "execution_count": 44,
      "metadata": {
        "colab": {
          "base_uri": "https://localhost:8080/"
        },
        "id": "senodCwtRgN4",
        "outputId": "4f85920a-b556-4ab2-9e23-fb7a01532dd7"
      },
      "outputs": [
        {
          "data": {
            "text/plain": [
              "'\\n!pip install \"ray[rllib]\" torch\\n!pip install nashpy\\n!pip install pickle5\\n!git clone https://github.com/SammyDMartin/CC.git\\n!cd CC\\n\\nuse_CC = True\\n'"
            ]
          },
          "execution_count": 44,
          "metadata": {},
          "output_type": "execute_result"
        }
      ],
      "source": [
        "#Uncomment for Colab\n",
        "use_cc = False\n",
        "\"\"\"\n",
        "!pip install \"ray[rllib]\" torch\n",
        "!pip install nashpy\n",
        "!pip install pickle5\n",
        "!git clone https://github.com/SammyDMartin/CC.git\n",
        "!cd CC\n",
        "\n",
        "use_CC = True\n",
        "\"\"\""
      ]
    },
    {
      "cell_type": "code",
      "execution_count": 45,
      "metadata": {
        "id": "Hj60SH87SPT0"
      },
      "outputs": [],
      "source": [
        "if use_cc == True:\n",
        "    from CC.cc_search import assess_agent_vs_others,assess_agent_vs_agent\n",
        "    from CC.cc_tools import DQNTorchPolicy,DQNTrainer,PPOTorchPolicy,PPOTrainer,A3CTorchPolicy,A3CTrainer,BRToLastPolicy,IteratedChicken\n",
        "else:\n",
        "    from cc_search import assess_agent_vs_others,assess_agent_vs_agent\n",
        "    from cc_tools import DQNTorchPolicy,DQNTrainer,PPOTorchPolicy,PPOTrainer,A3CTorchPolicy,A3CTrainer,BRToLastPolicy,IteratedChicken,CoopPolicy,DefectPolicy,RandPolicy,MaximinBullyPolicy"
      ]
    },
    {
      "cell_type": "code",
      "execution_count": 46,
      "metadata": {
        "id": "1YOuBZPwSk_F"
      },
      "outputs": [],
      "source": [
        "opponents = [(DQNTorchPolicy,DQNTrainer),(PPOTorchPolicy,PPOTrainer),(A3CTorchPolicy,A3CTrainer)]\n",
        "strategies = [BRToLastPolicy]"
      ]
    },
    {
      "cell_type": "code",
      "execution_count": 47,
      "metadata": {},
      "outputs": [],
      "source": [
        "import warnings\n",
        "warnings.filterwarnings(\"ignore\")"
      ]
    },
    {
      "cell_type": "code",
      "execution_count": 48,
      "metadata": {},
      "outputs": [
        {
          "data": {
            "text/plain": [
              "array([[[  0.,   0.],\n",
              "        [ -1.,   1.]],\n",
              "\n",
              "       [[  1.,  -1.],\n",
              "        [-10., -10.]]])"
            ]
          },
          "execution_count": 48,
          "metadata": {},
          "output_type": "execute_result"
        }
      ],
      "source": [
        "IteratedChicken.PAYOUT_MATRIX"
      ]
    },
    {
      "cell_type": "code",
      "execution_count": 49,
      "metadata": {
        "colab": {
          "base_uri": "https://localhost:8080/"
        },
        "id": "tUqfhC0CS4zF",
        "outputId": "124b3175-6eb1-4d31-9877-b5a232e8379c"
      },
      "outputs": [
        {
          "name": "stderr",
          "output_type": "stream",
          "text": [
            " pid=10600)\u001b[0m 2022-01-26 20:49:39,411\tINFO trainer.py:745 -- Current log_level is WARN. For more information, set 'log_level': 'INFO' / 'DEBUG' or use the -v and -vv flags.\n",
            " pid=10600)\u001b[0m 2022-01-26 20:49:39,419\tWARNING util.py:57 -- Install gputil for GPU system monitoring.\n",
            " pid=10600)\u001b[0m 2022-01-26 20:49:39,424\tWARNING deprecation.py:46 -- DeprecationWarning: `policy_mapping_fn(agent_id)` has been deprecated. Use `policy_mapping_fn(agent_id, episode, worker, **kwargs)` instead. This will raise an error in the future!\n"
          ]
        },
        {
          "name": "stdout",
          "output_type": "stream",
          "text": [
            " pid=10600)\u001b[0m ray version: 1.9.2\n"
          ]
        }
      ],
      "source": [
        "#res1, res_full = assess_agent_vs_others(agent_trainer=(BRToLastPolicy,None),opponents=[], strategies=[BRToLastPolicy],steps=2)\n",
        "\n",
        "exanal = assess_agent_vs_agent(policies=[BRToLastPolicy,MaximinBullyPolicy],checkpoints=[],environment=IteratedChicken,iters=5)"
      ]
    },
    {
      "cell_type": "code",
      "execution_count": 50,
      "metadata": {},
      "outputs": [
        {
          "data": {
            "text/html": [
              "<div>\n",
              "<style scoped>\n",
              "    .dataframe tbody tr th:only-of-type {\n",
              "        vertical-align: middle;\n",
              "    }\n",
              "\n",
              "    .dataframe tbody tr th {\n",
              "        vertical-align: top;\n",
              "    }\n",
              "\n",
              "    .dataframe thead th {\n",
              "        text-align: right;\n",
              "    }\n",
              "</style>\n",
              "<table border=\"1\" class=\"dataframe\">\n",
              "  <thead>\n",
              "    <tr style=\"text-align: right;\">\n",
              "      <th></th>\n",
              "      <th>episode_reward_max</th>\n",
              "      <th>episode_reward_min</th>\n",
              "      <th>episode_reward_mean</th>\n",
              "      <th>episode_len_mean</th>\n",
              "      <th>episodes_this_iter</th>\n",
              "      <th>num_healthy_workers</th>\n",
              "      <th>timesteps_total</th>\n",
              "      <th>timesteps_this_iter</th>\n",
              "      <th>agent_timesteps_total</th>\n",
              "      <th>done</th>\n",
              "      <th>...</th>\n",
              "      <th>timers/learn_time_ms</th>\n",
              "      <th>timers/learn_throughput</th>\n",
              "      <th>info/num_steps_sampled</th>\n",
              "      <th>info/num_agent_steps_sampled</th>\n",
              "      <th>info/num_steps_trained</th>\n",
              "      <th>info/num_agent_steps_trained</th>\n",
              "      <th>info/last_target_update_ts</th>\n",
              "      <th>info/num_target_updates</th>\n",
              "      <th>perf/cpu_util_percent</th>\n",
              "      <th>perf/ram_util_percent</th>\n",
              "    </tr>\n",
              "  </thead>\n",
              "  <tbody>\n",
              "    <tr>\n",
              "      <th>0</th>\n",
              "      <td>0.0</td>\n",
              "      <td>-20.0</td>\n",
              "      <td>-7.8</td>\n",
              "      <td>10.0</td>\n",
              "      <td>100</td>\n",
              "      <td>0</td>\n",
              "      <td>1000</td>\n",
              "      <td>0</td>\n",
              "      <td>2000</td>\n",
              "      <td>False</td>\n",
              "      <td>...</td>\n",
              "      <td>3.012</td>\n",
              "      <td>10623.534</td>\n",
              "      <td>1000</td>\n",
              "      <td>2000</td>\n",
              "      <td>32</td>\n",
              "      <td>64</td>\n",
              "      <td>1000</td>\n",
              "      <td>1</td>\n",
              "      <td>46.000000</td>\n",
              "      <td>81.100</td>\n",
              "    </tr>\n",
              "    <tr>\n",
              "      <th>1</th>\n",
              "      <td>0.0</td>\n",
              "      <td>-20.0</td>\n",
              "      <td>-10.0</td>\n",
              "      <td>10.0</td>\n",
              "      <td>100</td>\n",
              "      <td>0</td>\n",
              "      <td>2000</td>\n",
              "      <td>0</td>\n",
              "      <td>4000</td>\n",
              "      <td>False</td>\n",
              "      <td>...</td>\n",
              "      <td>0.000</td>\n",
              "      <td>0.000</td>\n",
              "      <td>2000</td>\n",
              "      <td>4000</td>\n",
              "      <td>8032</td>\n",
              "      <td>16064</td>\n",
              "      <td>1504</td>\n",
              "      <td>2</td>\n",
              "      <td>31.950000</td>\n",
              "      <td>81.200</td>\n",
              "    </tr>\n",
              "    <tr>\n",
              "      <th>2</th>\n",
              "      <td>0.0</td>\n",
              "      <td>-20.0</td>\n",
              "      <td>-11.8</td>\n",
              "      <td>10.0</td>\n",
              "      <td>100</td>\n",
              "      <td>0</td>\n",
              "      <td>3000</td>\n",
              "      <td>0</td>\n",
              "      <td>6000</td>\n",
              "      <td>False</td>\n",
              "      <td>...</td>\n",
              "      <td>0.000</td>\n",
              "      <td>0.000</td>\n",
              "      <td>3000</td>\n",
              "      <td>6000</td>\n",
              "      <td>16032</td>\n",
              "      <td>32064</td>\n",
              "      <td>2512</td>\n",
              "      <td>4</td>\n",
              "      <td>33.866667</td>\n",
              "      <td>81.200</td>\n",
              "    </tr>\n",
              "    <tr>\n",
              "      <th>3</th>\n",
              "      <td>0.0</td>\n",
              "      <td>-20.0</td>\n",
              "      <td>-10.0</td>\n",
              "      <td>10.0</td>\n",
              "      <td>100</td>\n",
              "      <td>0</td>\n",
              "      <td>4000</td>\n",
              "      <td>0</td>\n",
              "      <td>8000</td>\n",
              "      <td>False</td>\n",
              "      <td>...</td>\n",
              "      <td>0.000</td>\n",
              "      <td>0.000</td>\n",
              "      <td>4000</td>\n",
              "      <td>8000</td>\n",
              "      <td>24032</td>\n",
              "      <td>48064</td>\n",
              "      <td>3520</td>\n",
              "      <td>6</td>\n",
              "      <td>35.075000</td>\n",
              "      <td>79.975</td>\n",
              "    </tr>\n",
              "    <tr>\n",
              "      <th>4</th>\n",
              "      <td>0.0</td>\n",
              "      <td>-20.0</td>\n",
              "      <td>-8.2</td>\n",
              "      <td>10.0</td>\n",
              "      <td>100</td>\n",
              "      <td>0</td>\n",
              "      <td>5000</td>\n",
              "      <td>0</td>\n",
              "      <td>10000</td>\n",
              "      <td>True</td>\n",
              "      <td>...</td>\n",
              "      <td>0.000</td>\n",
              "      <td>0.000</td>\n",
              "      <td>5000</td>\n",
              "      <td>10000</td>\n",
              "      <td>32032</td>\n",
              "      <td>64064</td>\n",
              "      <td>4528</td>\n",
              "      <td>8</td>\n",
              "      <td>31.800000</td>\n",
              "      <td>79.850</td>\n",
              "    </tr>\n",
              "  </tbody>\n",
              "</table>\n",
              "<p>5 rows × 49 columns</p>\n",
              "</div>"
            ],
            "text/plain": [
              "   episode_reward_max  episode_reward_min  episode_reward_mean  \\\n",
              "0                 0.0               -20.0                 -7.8   \n",
              "1                 0.0               -20.0                -10.0   \n",
              "2                 0.0               -20.0                -11.8   \n",
              "3                 0.0               -20.0                -10.0   \n",
              "4                 0.0               -20.0                 -8.2   \n",
              "\n",
              "   episode_len_mean  episodes_this_iter  num_healthy_workers  timesteps_total  \\\n",
              "0              10.0                 100                    0             1000   \n",
              "1              10.0                 100                    0             2000   \n",
              "2              10.0                 100                    0             3000   \n",
              "3              10.0                 100                    0             4000   \n",
              "4              10.0                 100                    0             5000   \n",
              "\n",
              "   timesteps_this_iter  agent_timesteps_total   done  ...  \\\n",
              "0                    0                   2000  False  ...   \n",
              "1                    0                   4000  False  ...   \n",
              "2                    0                   6000  False  ...   \n",
              "3                    0                   8000  False  ...   \n",
              "4                    0                  10000   True  ...   \n",
              "\n",
              "   timers/learn_time_ms  timers/learn_throughput info/num_steps_sampled  \\\n",
              "0                 3.012                10623.534                   1000   \n",
              "1                 0.000                    0.000                   2000   \n",
              "2                 0.000                    0.000                   3000   \n",
              "3                 0.000                    0.000                   4000   \n",
              "4                 0.000                    0.000                   5000   \n",
              "\n",
              "  info/num_agent_steps_sampled info/num_steps_trained  \\\n",
              "0                         2000                     32   \n",
              "1                         4000                   8032   \n",
              "2                         6000                  16032   \n",
              "3                         8000                  24032   \n",
              "4                        10000                  32032   \n",
              "\n",
              "   info/num_agent_steps_trained  info/last_target_update_ts  \\\n",
              "0                            64                        1000   \n",
              "1                         16064                        1504   \n",
              "2                         32064                        2512   \n",
              "3                         48064                        3520   \n",
              "4                         64064                        4528   \n",
              "\n",
              "   info/num_target_updates  perf/cpu_util_percent perf/ram_util_percent  \n",
              "0                        1              46.000000                81.100  \n",
              "1                        2              31.950000                81.200  \n",
              "2                        4              33.866667                81.200  \n",
              "3                        6              35.075000                79.975  \n",
              "4                        8              31.800000                79.850  \n",
              "\n",
              "[5 rows x 49 columns]"
            ]
          },
          "execution_count": 50,
          "metadata": {},
          "output_type": "execute_result"
        }
      ],
      "source": [
        "exanal.trial_dataframes[list(exanal.trial_dataframes.keys())[0]]"
      ]
    }
  ],
  "metadata": {
    "colab": {
      "authorship_tag": "ABX9TyPVTPNg2bKbNUAxBs2gkd6L",
      "include_colab_link": true,
      "name": "test.ipynb",
      "provenance": []
    },
    "kernelspec": {
      "display_name": "Python 3",
      "name": "python3"
    },
    "language_info": {
      "codemirror_mode": {
        "name": "ipython",
        "version": 3
      },
      "file_extension": ".py",
      "mimetype": "text/x-python",
      "name": "python",
      "nbconvert_exporter": "python",
      "pygments_lexer": "ipython3",
      "version": "3.7.6"
    }
  },
  "nbformat": 4,
  "nbformat_minor": 0
}
