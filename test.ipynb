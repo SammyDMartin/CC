{
  "nbformat": 4,
  "nbformat_minor": 0,
  "metadata": {
    "colab": {
      "name": "test.ipynb",
      "provenance": [],
      "authorship_tag": "ABX9TyPVTPNg2bKbNUAxBs2gkd6L",
      "include_colab_link": true
    },
    "kernelspec": {
      "name": "python3",
      "display_name": "Python 3"
    },
    "language_info": {
      "name": "python"
    }
  },
  "cells": [
    {
      "cell_type": "markdown",
      "metadata": {
        "id": "view-in-github",
        "colab_type": "text"
      },
      "source": [
        "<a href=\"https://colab.research.google.com/github/SammyDMartin/CC/blob/main/test.ipynb\" target=\"_parent\"><img src=\"https://colab.research.google.com/assets/colab-badge.svg\" alt=\"Open In Colab\"/></a>"
      ]
    },
    {
      "cell_type": "code",
      "execution_count": 1,
      "metadata": {
        "colab": {
          "base_uri": "https://localhost:8080/"
        },
        "id": "senodCwtRgN4",
        "outputId": "4f85920a-b556-4ab2-9e23-fb7a01532dd7"
      },
      "outputs": [
        {
          "output_type": "stream",
          "name": "stdout",
          "text": [
            "Collecting ray[rllib]\n",
            "  Downloading ray-1.9.2-cp37-cp37m-manylinux2014_x86_64.whl (57.6 MB)\n",
            "\u001b[K     |████████████████████████████████| 57.6 MB 1.2 MB/s \n",
            "\u001b[?25hRequirement already satisfied: torch in /usr/local/lib/python3.7/dist-packages (1.10.0+cu111)\n",
            "Requirement already satisfied: typing-extensions in /usr/local/lib/python3.7/dist-packages (from torch) (3.10.0.2)\n",
            "Collecting redis>=3.5.0\n",
            "  Downloading redis-4.1.1-py3-none-any.whl (173 kB)\n",
            "\u001b[K     |████████████████████████████████| 173 kB 74.2 MB/s \n",
            "\u001b[?25hRequirement already satisfied: filelock in /usr/local/lib/python3.7/dist-packages (from ray[rllib]) (3.4.2)\n",
            "Requirement already satisfied: pyyaml in /usr/local/lib/python3.7/dist-packages (from ray[rllib]) (3.13)\n",
            "Requirement already satisfied: jsonschema in /usr/local/lib/python3.7/dist-packages (from ray[rllib]) (4.3.3)\n",
            "Requirement already satisfied: attrs in /usr/local/lib/python3.7/dist-packages (from ray[rllib]) (21.4.0)\n",
            "Requirement already satisfied: numpy>=1.16 in /usr/local/lib/python3.7/dist-packages (from ray[rllib]) (1.19.5)\n",
            "Requirement already satisfied: msgpack<2.0.0,>=1.0.0 in /usr/local/lib/python3.7/dist-packages (from ray[rllib]) (1.0.3)\n",
            "Requirement already satisfied: protobuf>=3.15.3 in /usr/local/lib/python3.7/dist-packages (from ray[rllib]) (3.17.3)\n",
            "Requirement already satisfied: click>=7.0 in /usr/local/lib/python3.7/dist-packages (from ray[rllib]) (7.1.2)\n",
            "Requirement already satisfied: grpcio>=1.28.1 in /usr/local/lib/python3.7/dist-packages (from ray[rllib]) (1.43.0)\n",
            "Requirement already satisfied: pandas in /usr/local/lib/python3.7/dist-packages (from ray[rllib]) (1.1.5)\n",
            "Requirement already satisfied: gym in /usr/local/lib/python3.7/dist-packages (from ray[rllib]) (0.17.3)\n",
            "Collecting lz4\n",
            "  Downloading lz4-3.1.10-cp37-cp37m-manylinux2010_x86_64.whl (1.8 MB)\n",
            "\u001b[K     |████████████████████████████████| 1.8 MB 44.2 MB/s \n",
            "\u001b[?25hRequirement already satisfied: dm-tree in /usr/local/lib/python3.7/dist-packages (from ray[rllib]) (0.1.6)\n",
            "Requirement already satisfied: scipy in /usr/local/lib/python3.7/dist-packages (from ray[rllib]) (1.4.1)\n",
            "Requirement already satisfied: scikit-image in /usr/local/lib/python3.7/dist-packages (from ray[rllib]) (0.18.3)\n",
            "Requirement already satisfied: tabulate in /usr/local/lib/python3.7/dist-packages (from ray[rllib]) (0.8.9)\n",
            "Collecting tensorboardX>=1.9\n",
            "  Downloading tensorboardX-2.4.1-py2.py3-none-any.whl (124 kB)\n",
            "\u001b[K     |████████████████████████████████| 124 kB 60.6 MB/s \n",
            "\u001b[?25hRequirement already satisfied: requests in /usr/local/lib/python3.7/dist-packages (from ray[rllib]) (2.23.0)\n",
            "Requirement already satisfied: matplotlib!=3.4.3 in /usr/local/lib/python3.7/dist-packages (from ray[rllib]) (3.2.2)\n",
            "Requirement already satisfied: six>=1.5.2 in /usr/local/lib/python3.7/dist-packages (from grpcio>=1.28.1->ray[rllib]) (1.15.0)\n",
            "Requirement already satisfied: python-dateutil>=2.1 in /usr/local/lib/python3.7/dist-packages (from matplotlib!=3.4.3->ray[rllib]) (2.8.2)\n",
            "Requirement already satisfied: cycler>=0.10 in /usr/local/lib/python3.7/dist-packages (from matplotlib!=3.4.3->ray[rllib]) (0.11.0)\n",
            "Requirement already satisfied: kiwisolver>=1.0.1 in /usr/local/lib/python3.7/dist-packages (from matplotlib!=3.4.3->ray[rllib]) (1.3.2)\n",
            "Requirement already satisfied: pyparsing!=2.0.4,!=2.1.2,!=2.1.6,>=2.0.1 in /usr/local/lib/python3.7/dist-packages (from matplotlib!=3.4.3->ray[rllib]) (3.0.6)\n",
            "Requirement already satisfied: packaging>=20.4 in /usr/local/lib/python3.7/dist-packages (from redis>=3.5.0->ray[rllib]) (21.3)\n",
            "Collecting deprecated>=1.2.3\n",
            "  Downloading Deprecated-1.2.13-py2.py3-none-any.whl (9.6 kB)\n",
            "Requirement already satisfied: importlib-metadata>=1.0 in /usr/local/lib/python3.7/dist-packages (from redis>=3.5.0->ray[rllib]) (4.10.0)\n",
            "Requirement already satisfied: wrapt<2,>=1.10 in /usr/local/lib/python3.7/dist-packages (from deprecated>=1.2.3->redis>=3.5.0->ray[rllib]) (1.13.3)\n",
            "Requirement already satisfied: zipp>=0.5 in /usr/local/lib/python3.7/dist-packages (from importlib-metadata>=1.0->redis>=3.5.0->ray[rllib]) (3.7.0)\n",
            "Requirement already satisfied: pyglet<=1.5.0,>=1.4.0 in /usr/local/lib/python3.7/dist-packages (from gym->ray[rllib]) (1.5.0)\n",
            "Requirement already satisfied: cloudpickle<1.7.0,>=1.2.0 in /usr/local/lib/python3.7/dist-packages (from gym->ray[rllib]) (1.3.0)\n",
            "Requirement already satisfied: future in /usr/local/lib/python3.7/dist-packages (from pyglet<=1.5.0,>=1.4.0->gym->ray[rllib]) (0.16.0)\n",
            "Requirement already satisfied: pyrsistent!=0.17.0,!=0.17.1,!=0.17.2,>=0.14.0 in /usr/local/lib/python3.7/dist-packages (from jsonschema->ray[rllib]) (0.18.0)\n",
            "Requirement already satisfied: importlib-resources>=1.4.0 in /usr/local/lib/python3.7/dist-packages (from jsonschema->ray[rllib]) (5.4.0)\n",
            "Requirement already satisfied: pytz>=2017.2 in /usr/local/lib/python3.7/dist-packages (from pandas->ray[rllib]) (2018.9)\n",
            "Requirement already satisfied: chardet<4,>=3.0.2 in /usr/local/lib/python3.7/dist-packages (from requests->ray[rllib]) (3.0.4)\n",
            "Requirement already satisfied: idna<3,>=2.5 in /usr/local/lib/python3.7/dist-packages (from requests->ray[rllib]) (2.10)\n",
            "Requirement already satisfied: urllib3!=1.25.0,!=1.25.1,<1.26,>=1.21.1 in /usr/local/lib/python3.7/dist-packages (from requests->ray[rllib]) (1.24.3)\n",
            "Requirement already satisfied: certifi>=2017.4.17 in /usr/local/lib/python3.7/dist-packages (from requests->ray[rllib]) (2021.10.8)\n",
            "Requirement already satisfied: PyWavelets>=1.1.1 in /usr/local/lib/python3.7/dist-packages (from scikit-image->ray[rllib]) (1.2.0)\n",
            "Requirement already satisfied: pillow!=7.1.0,!=7.1.1,>=4.3.0 in /usr/local/lib/python3.7/dist-packages (from scikit-image->ray[rllib]) (7.1.2)\n",
            "Requirement already satisfied: networkx>=2.0 in /usr/local/lib/python3.7/dist-packages (from scikit-image->ray[rllib]) (2.6.3)\n",
            "Requirement already satisfied: imageio>=2.3.0 in /usr/local/lib/python3.7/dist-packages (from scikit-image->ray[rllib]) (2.4.1)\n",
            "Requirement already satisfied: tifffile>=2019.7.26 in /usr/local/lib/python3.7/dist-packages (from scikit-image->ray[rllib]) (2021.11.2)\n",
            "Installing collected packages: deprecated, redis, tensorboardX, ray, lz4\n",
            "Successfully installed deprecated-1.2.13 lz4-3.1.10 ray-1.9.2 redis-4.1.1 tensorboardX-2.4.1\n",
            "Collecting nashpy\n",
            "  Downloading nashpy-0.0.22.tar.gz (11 kB)\n",
            "\u001b[33mWARNING: Discarding https://files.pythonhosted.org/packages/93/1c/9005c6a0a3a3b183b5b216cc02cef14bb080fd3ee8733a1006fbcd81fffc/nashpy-0.0.22.tar.gz#sha256=9378fd492f01163ac01a7384dd94f7ffa3ce40e31fe2a08844a2e34576b3d8db (from https://pypi.org/simple/nashpy/). Command errored out with exit status 1: python setup.py egg_info Check the logs for full command output.\u001b[0m\n",
            "  Downloading nashpy-0.0.21.tar.gz (11 kB)\n",
            "Requirement already satisfied: numpy>=1.12.1 in /usr/local/lib/python3.7/dist-packages (from nashpy) (1.19.5)\n",
            "Requirement already satisfied: scipy>=0.19.0 in /usr/local/lib/python3.7/dist-packages (from nashpy) (1.4.1)\n",
            "Building wheels for collected packages: nashpy\n",
            "  Building wheel for nashpy (setup.py) ... \u001b[?25l\u001b[?25hdone\n",
            "  Created wheel for nashpy: filename=nashpy-0.0.21-py3-none-any.whl size=15280 sha256=cb4027fa6bfa16e88a8ba6f063f04b8345ea615cc49d8cde0b52f523da25cabc\n",
            "  Stored in directory: /root/.cache/pip/wheels/02/08/62/cf4fa931e0a317d180936b266169a57f4bb4eb801465bbe8a1\n",
            "Successfully built nashpy\n",
            "Installing collected packages: nashpy\n",
            "Successfully installed nashpy-0.0.21\n",
            "Collecting pickle5\n",
            "  Downloading pickle5-0.0.12-cp37-cp37m-manylinux_2_5_x86_64.manylinux1_x86_64.whl (256 kB)\n",
            "\u001b[K     |████████████████████████████████| 256 kB 22.9 MB/s \n",
            "\u001b[?25hInstalling collected packages: pickle5\n",
            "Successfully installed pickle5-0.0.12\n"
          ]
        }
      ],
      "source": [
        "!pip install \"ray[rllib]\" torch\n",
        "!pip install nashpy\n",
        "!pip install pickle5"
      ]
    },
    {
      "cell_type": "code",
      "source": [
        "!git clone https://github.com/SammyDMartin/CC.git"
      ],
      "metadata": {
        "colab": {
          "base_uri": "https://localhost:8080/"
        },
        "id": "eVT2Rdb7Rior",
        "outputId": "548cce20-df2a-413a-f324-3bb4ea303cde"
      },
      "execution_count": 2,
      "outputs": [
        {
          "output_type": "stream",
          "name": "stdout",
          "text": [
            "fatal: destination path 'CC' already exists and is not an empty directory.\n"
          ]
        }
      ]
    },
    {
      "cell_type": "code",
      "source": [
        "from CC.cc_tools import assess_agent_vs_others"
      ],
      "metadata": {
        "id": "Hj60SH87SPT0"
      },
      "execution_count": 4,
      "outputs": []
    },
    {
      "cell_type": "code",
      "source": [
        "from ray.rllib.agents.dqn import DQNTrainer, DQNTorchPolicy\n",
        "from CC.cc_tools import DefectPolicy"
      ],
      "metadata": {
        "id": "1YOuBZPwSk_F"
      },
      "execution_count": 7,
      "outputs": []
    },
    {
      "cell_type": "code",
      "source": [
        "res1, res_full = assess_agent_vs_others(agent_trainer=(DQNTorchPolicy,DQNTrainer),opponents=[(DQNTorchPolicy,DQNTrainer)],strategies=[],steps=2)"
      ],
      "metadata": {
        "colab": {
          "base_uri": "https://localhost:8080/"
        },
        "id": "tUqfhC0CS4zF",
        "outputId": "124b3175-6eb1-4d31-9877-b5a232e8379c"
      },
      "execution_count": null,
      "outputs": [
        {
          "output_type": "stream",
          "name": "stderr",
          "text": [
            "\n",
            "\n",
            "  0%|          | 0/21 [00:00<?, ?it/s]\u001b[A\u001b[A\u001b[2m\u001b[36m(DQN pid=486)\u001b[0m 2022-01-21 15:48:57,329\tINFO dqn.py:142 -- In multi-agent mode, policies will be optimized sequentially by the multi-GPU optimizer. Consider setting simple_optimizer=True if this doesn't work for you.\n",
            "\u001b[2m\u001b[36m(DQN pid=486)\u001b[0m 2022-01-21 15:48:57,329\tINFO trainer.py:745 -- Current log_level is WARN. For more information, set 'log_level': 'INFO' / 'DEBUG' or use the -v and -vv flags.\n",
            "\u001b[2m\u001b[36m(DQN pid=486)\u001b[0m 2022-01-21 15:48:57,365\tWARNING deprecation.py:46 -- DeprecationWarning: `convert_to_non_torch_type` has been deprecated. Use `ray/rllib/utils/numpy.py::convert_to_numpy` instead. This will raise an error in the future!\n",
            "\u001b[2m\u001b[36m(DQN pid=486)\u001b[0m 2022-01-21 15:48:57,384\tWARNING util.py:57 -- Install gputil for GPU system monitoring.\n",
            "\u001b[2m\u001b[36m(DQN pid=486)\u001b[0m 2022-01-21 15:48:57,398\tWARNING deprecation.py:46 -- DeprecationWarning: `policy_mapping_fn(agent_id)` has been deprecated. Use `policy_mapping_fn(agent_id, episode, worker, **kwargs)` instead. This will raise an error in the future!\n",
            "\n",
            "\n",
            "  5%|▍         | 1/21 [00:06<02:19,  6.97s/it]\u001b[A\u001b[A\u001b[2m\u001b[36m(DQN pid=550)\u001b[0m 2022-01-21 15:49:05,424\tINFO dqn.py:142 -- In multi-agent mode, policies will be optimized sequentially by the multi-GPU optimizer. Consider setting simple_optimizer=True if this doesn't work for you.\n",
            "\u001b[2m\u001b[36m(DQN pid=550)\u001b[0m 2022-01-21 15:49:05,424\tINFO trainer.py:745 -- Current log_level is WARN. For more information, set 'log_level': 'INFO' / 'DEBUG' or use the -v and -vv flags.\n",
            "\u001b[2m\u001b[36m(DQN pid=550)\u001b[0m 2022-01-21 15:49:05,459\tWARNING deprecation.py:46 -- DeprecationWarning: `convert_to_non_torch_type` has been deprecated. Use `ray/rllib/utils/numpy.py::convert_to_numpy` instead. This will raise an error in the future!\n",
            "\u001b[2m\u001b[36m(DQN pid=550)\u001b[0m 2022-01-21 15:49:05,475\tWARNING util.py:57 -- Install gputil for GPU system monitoring.\n",
            "\u001b[2m\u001b[36m(DQN pid=550)\u001b[0m 2022-01-21 15:49:05,492\tWARNING deprecation.py:46 -- DeprecationWarning: `policy_mapping_fn(agent_id)` has been deprecated. Use `policy_mapping_fn(agent_id, episode, worker, **kwargs)` instead. This will raise an error in the future!\n",
            "\n",
            "\n",
            " 10%|▉         | 2/21 [00:15<02:25,  7.63s/it]\u001b[A\u001b[A"
          ]
        },
        {
          "output_type": "stream",
          "name": "stdout",
          "text": [
            "Game: IteratedPrisonersDilemma\n",
            "\n",
            "\n",
            "Policies: ['DQNTorchPolicy', 'DQNTorchPolicy']\n",
            "Checkpoints: ['/root/ray_results/test/DQN_IteratedPrisonersDilemma_a19b1_00000_0_2022-01-21_15-48-52/checkpoint_000001/checkpoint-1', '/root/ray_results/test/DQN_IteratedPrisonersDilemma_a5c2c_00000_0_2022-01-21_15-48-59/checkpoint_000001/checkpoint-1']\n",
            "\u001b[2m\u001b[36m(DQN pid=549)\u001b[0m ray version: 1.9.2\n",
            "\u001b[2m\u001b[36m(DQN pid=549)\u001b[0m going to load policy player_col from checkpoint /root/ray_results/test/DQN_IteratedPrisonersDilemma_a5c2c_00000_0_2022-01-21_15-48-59/checkpoint_000001/checkpoint-1\n",
            "\u001b[2m\u001b[36m(DQN pid=549)\u001b[0m going to load policy player_row from checkpoint /root/ray_results/test/DQN_IteratedPrisonersDilemma_a19b1_00000_0_2022-01-21_15-48-52/checkpoint_000001/checkpoint-1\n"
          ]
        },
        {
          "output_type": "stream",
          "name": "stderr",
          "text": [
            "\u001b[2m\u001b[36m(DQN pid=549)\u001b[0m 2022-01-21 15:49:12,367\tINFO dqn.py:142 -- In multi-agent mode, policies will be optimized sequentially by the multi-GPU optimizer. Consider setting simple_optimizer=True if this doesn't work for you.\n",
            "\u001b[2m\u001b[36m(DQN pid=549)\u001b[0m 2022-01-21 15:49:12,367\tINFO trainer.py:745 -- Current log_level is WARN. For more information, set 'log_level': 'INFO' / 'DEBUG' or use the -v and -vv flags.\n",
            "\u001b[2m\u001b[36m(DQN pid=549)\u001b[0m restoring ckpt: not loading objs['filters']\n",
            "\u001b[2m\u001b[36m(DQN pid=549)\u001b[0m 2022-01-21 15:49:12,405\tWARNING deprecation.py:46 -- DeprecationWarning: `convert_to_non_torch_type` has been deprecated. Use `ray/rllib/utils/numpy.py::convert_to_numpy` instead. This will raise an error in the future!\n",
            "\u001b[2m\u001b[36m(DQN pid=549)\u001b[0m restoring ckpt: not loading objs['filters']\n",
            "\u001b[2m\u001b[36m(DQN pid=549)\u001b[0m 2022-01-21 15:49:12,424\tWARNING util.py:57 -- Install gputil for GPU system monitoring.\n",
            "\u001b[2m\u001b[36m(DQN pid=549)\u001b[0m 2022-01-21 15:49:12,440\tWARNING deprecation.py:46 -- DeprecationWarning: `policy_mapping_fn(agent_id)` has been deprecated. Use `policy_mapping_fn(agent_id, episode, worker, **kwargs)` instead. This will raise an error in the future!\n",
            "\n",
            "\n",
            " 14%|█▍        | 3/21 [00:29<03:15, 10.83s/it]\u001b[A\u001b[A\u001b[2m\u001b[36m(DQN pid=617)\u001b[0m 2022-01-21 15:49:28,056\tINFO dqn.py:142 -- In multi-agent mode, policies will be optimized sequentially by the multi-GPU optimizer. Consider setting simple_optimizer=True if this doesn't work for you.\n",
            "\u001b[2m\u001b[36m(DQN pid=617)\u001b[0m 2022-01-21 15:49:28,056\tINFO trainer.py:745 -- Current log_level is WARN. For more information, set 'log_level': 'INFO' / 'DEBUG' or use the -v and -vv flags.\n",
            "\u001b[2m\u001b[36m(DQN pid=617)\u001b[0m 2022-01-21 15:49:28,090\tWARNING deprecation.py:46 -- DeprecationWarning: `convert_to_non_torch_type` has been deprecated. Use `ray/rllib/utils/numpy.py::convert_to_numpy` instead. This will raise an error in the future!\n",
            "\u001b[2m\u001b[36m(DQN pid=617)\u001b[0m 2022-01-21 15:49:28,104\tWARNING util.py:57 -- Install gputil for GPU system monitoring.\n",
            "\u001b[2m\u001b[36m(DQN pid=617)\u001b[0m 2022-01-21 15:49:28,118\tWARNING deprecation.py:46 -- DeprecationWarning: `policy_mapping_fn(agent_id)` has been deprecated. Use `policy_mapping_fn(agent_id, episode, worker, **kwargs)` instead. This will raise an error in the future!\n",
            "\n",
            "\n",
            " 19%|█▉        | 4/21 [00:37<02:45,  9.71s/it]\u001b[A\u001b[A\u001b[2m\u001b[36m(DQN pid=616)\u001b[0m 2022-01-21 15:49:34,861\tINFO dqn.py:142 -- In multi-agent mode, policies will be optimized sequentially by the multi-GPU optimizer. Consider setting simple_optimizer=True if this doesn't work for you.\n",
            "\u001b[2m\u001b[36m(DQN pid=616)\u001b[0m 2022-01-21 15:49:34,861\tINFO trainer.py:745 -- Current log_level is WARN. For more information, set 'log_level': 'INFO' / 'DEBUG' or use the -v and -vv flags.\n",
            "\u001b[2m\u001b[36m(DQN pid=616)\u001b[0m 2022-01-21 15:49:34,895\tWARNING deprecation.py:46 -- DeprecationWarning: `convert_to_non_torch_type` has been deprecated. Use `ray/rllib/utils/numpy.py::convert_to_numpy` instead. This will raise an error in the future!\n",
            "\u001b[2m\u001b[36m(DQN pid=616)\u001b[0m 2022-01-21 15:49:34,909\tWARNING util.py:57 -- Install gputil for GPU system monitoring.\n",
            "\u001b[2m\u001b[36m(DQN pid=616)\u001b[0m 2022-01-21 15:49:34,923\tWARNING deprecation.py:46 -- DeprecationWarning: `policy_mapping_fn(agent_id)` has been deprecated. Use `policy_mapping_fn(agent_id, episode, worker, **kwargs)` instead. This will raise an error in the future!\n",
            "\n",
            "\n",
            " 24%|██▍       | 5/21 [00:44<02:18,  8.66s/it]\u001b[A\u001b[A"
          ]
        },
        {
          "output_type": "stream",
          "name": "stdout",
          "text": [
            "Game: IteratedChicken\n",
            "\n",
            "\n",
            "Policies: ['DQNTorchPolicy', 'DQNTorchPolicy']\n",
            "Checkpoints: ['/root/ray_results/test/DQN_IteratedChicken_b3515_00000_0_2022-01-21_15-49-21/checkpoint_000001/checkpoint-1', '/root/ray_results/test/DQN_IteratedChicken_b8131_00000_0_2022-01-21_15-49-29/checkpoint_000001/checkpoint-1']\n",
            "\u001b[2m\u001b[36m(DQN pid=683)\u001b[0m ray version: 1.9.2\n",
            "\u001b[2m\u001b[36m(DQN pid=683)\u001b[0m going to load policy player_col from checkpoint /root/ray_results/test/DQN_IteratedChicken_b8131_00000_0_2022-01-21_15-49-29/checkpoint_000001/checkpoint-1\n",
            "\u001b[2m\u001b[36m(DQN pid=683)\u001b[0m going to load policy player_row from checkpoint /root/ray_results/test/DQN_IteratedChicken_b3515_00000_0_2022-01-21_15-49-21/checkpoint_000001/checkpoint-1\n"
          ]
        },
        {
          "output_type": "stream",
          "name": "stderr",
          "text": [
            "\u001b[2m\u001b[36m(DQN pid=683)\u001b[0m 2022-01-21 15:49:42,947\tINFO dqn.py:142 -- In multi-agent mode, policies will be optimized sequentially by the multi-GPU optimizer. Consider setting simple_optimizer=True if this doesn't work for you.\n",
            "\u001b[2m\u001b[36m(DQN pid=683)\u001b[0m 2022-01-21 15:49:42,947\tINFO trainer.py:745 -- Current log_level is WARN. For more information, set 'log_level': 'INFO' / 'DEBUG' or use the -v and -vv flags.\n",
            "\u001b[2m\u001b[36m(DQN pid=683)\u001b[0m restoring ckpt: not loading objs['filters']\n",
            "\u001b[2m\u001b[36m(DQN pid=683)\u001b[0m 2022-01-21 15:49:42,985\tWARNING deprecation.py:46 -- DeprecationWarning: `convert_to_non_torch_type` has been deprecated. Use `ray/rllib/utils/numpy.py::convert_to_numpy` instead. This will raise an error in the future!\n",
            "\u001b[2m\u001b[36m(DQN pid=683)\u001b[0m restoring ckpt: not loading objs['filters']\n",
            "\u001b[2m\u001b[36m(DQN pid=683)\u001b[0m 2022-01-21 15:49:43,004\tWARNING util.py:57 -- Install gputil for GPU system monitoring.\n",
            "\u001b[2m\u001b[36m(DQN pid=683)\u001b[0m 2022-01-21 15:49:43,020\tWARNING deprecation.py:46 -- DeprecationWarning: `policy_mapping_fn(agent_id)` has been deprecated. Use `policy_mapping_fn(agent_id, episode, worker, **kwargs)` instead. This will raise an error in the future!\n",
            "\n",
            "\n",
            " 29%|██▊       | 6/21 [01:00<02:46, 11.10s/it]\u001b[A\u001b[A"
          ]
        }
      ]
    }
  ]
}