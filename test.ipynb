{
  "cells": [
    {
      "cell_type": "markdown",
      "metadata": {
        "colab_type": "text",
        "id": "view-in-github"
      },
      "source": [
        "<a href=\"https://colab.research.google.com/github/SammyDMartin/CC/blob/main/test.ipynb\" target=\"_parent\"><img src=\"https://colab.research.google.com/assets/colab-badge.svg\" alt=\"Open In Colab\"/></a>"
      ]
    },
    {
      "cell_type": "code",
      "execution_count": 1,
      "metadata": {
        "colab": {
          "base_uri": "https://localhost:8080/"
        },
        "id": "senodCwtRgN4",
        "outputId": "4f85920a-b556-4ab2-9e23-fb7a01532dd7"
      },
      "outputs": [
        {
          "data": {
            "text/plain": [
              "'\\n!pip install \"ray[rllib]\" torch\\n!pip install nashpy\\n!pip install pickle5\\n!git clone https://github.com/SammyDMartin/CC.git\\n!cd CC\\n'"
            ]
          },
          "execution_count": 1,
          "metadata": {},
          "output_type": "execute_result"
        }
      ],
      "source": [
        "#Uncomment for Colab\n",
        "\"\"\"\n",
        "!pip install \"ray[rllib]\" torch\n",
        "!pip install nashpy\n",
        "!pip install pickle5\n",
        "!git clone https://github.com/SammyDMartin/CC.git\n",
        "!cd CC\n",
        "\"\"\""
      ]
    },
    {
      "cell_type": "code",
      "execution_count": 9,
      "metadata": {
        "id": "Hj60SH87SPT0"
      },
      "outputs": [],
      "source": [
        "from cc_search import assess_agent_vs_others"
      ]
    },
    {
      "cell_type": "code",
      "execution_count": 14,
      "metadata": {
        "id": "1YOuBZPwSk_F"
      },
      "outputs": [],
      "source": [
        "from cc_tools import DQNTorchPolicy,DQNTrainer,PPOTorchPolicy,PPOTrainer,A3CTorchPolicy,A3CTrainer\n",
        "from cc_tools import maximin_policy,ideal_selfplay_policy,random_agent\n",
        "\n",
        "opponents = [(DQNTorchPolicy,DQNTrainer),(PPOTorchPolicy,PPOTrainer),(A3CTorchPolicy,A3CTrainer)]\n",
        "strategies = [maximin_policy,ideal_selfplay_policy,random_agent]"
      ]
    },
    {
      "cell_type": "code",
      "execution_count": null,
      "metadata": {
        "colab": {
          "base_uri": "https://localhost:8080/"
        },
        "id": "tUqfhC0CS4zF",
        "outputId": "124b3175-6eb1-4d31-9877-b5a232e8379c"
      },
      "outputs": [],
      "source": [
        "res1, res_full = assess_agent_vs_others(agent_trainer=(DQNTorchPolicy,DQNTrainer),opponents=opponents, strategies=strategies,steps=2)"
      ]
    }
  ],
  "metadata": {
    "colab": {
      "authorship_tag": "ABX9TyPVTPNg2bKbNUAxBs2gkd6L",
      "include_colab_link": true,
      "name": "test.ipynb",
      "provenance": []
    },
    "kernelspec": {
      "display_name": "Python 3",
      "name": "python3"
    },
    "language_info": {
      "codemirror_mode": {
        "name": "ipython",
        "version": 3
      },
      "file_extension": ".py",
      "mimetype": "text/x-python",
      "name": "python",
      "nbconvert_exporter": "python",
      "pygments_lexer": "ipython3",
      "version": "3.7.6"
    }
  },
  "nbformat": 4,
  "nbformat_minor": 0
}
