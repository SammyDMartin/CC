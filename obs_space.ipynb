{
  "cells": [
    {
      "cell_type": "markdown",
      "metadata": {
        "id": "view-in-github"
      },
      "source": [
        "<a href=\"https://colab.research.google.com/github/SammyDMartin/CC/blob/main/test.ipynb\" target=\"_parent\"><img src=\"https://colab.research.google.com/assets/colab-badge.svg\" alt=\"Open In Colab\"/></a>"
      ]
    },
    {
      "cell_type": "code",
      "execution_count": 1,
      "metadata": {
        "colab": {
          "base_uri": "https://localhost:8080/"
        },
        "id": "senodCwtRgN4",
        "outputId": "01815f6c-18f2-409b-c12e-3bdf6064a8c0"
      },
      "outputs": [
        {
          "data": {
            "text/plain": [
              "'\\n#Uncomment for Colab\\n!pip install \"ray[rllib]\" torch\\n!pip install nashpy\\n!pip install pickle5\\n!git clone https://github.com/SammyDMartin/CC\\n'"
            ]
          },
          "execution_count": 1,
          "metadata": {},
          "output_type": "execute_result"
        }
      ],
      "source": [
        "\"\"\"\n",
        "#Uncomment for Colab\n",
        "!pip install \"ray[rllib]\" torch\n",
        "!pip install nashpy\n",
        "!pip install pickle5\n",
        "!git clone https://github.com/SammyDMartin/CC\n",
        "\"\"\""
      ]
    },
    {
      "cell_type": "code",
      "execution_count": 2,
      "metadata": {
        "colab": {
          "base_uri": "https://localhost:8080/",
          "height": 454
        },
        "id": "Hj60SH87SPT0",
        "outputId": "78a33d20-fb5c-442c-eafb-57d448d8f896"
      },
      "outputs": [
        {
          "name": "stdout",
          "output_type": "stream",
          "text": [
            "ray version: 1.9.2\n"
          ]
        }
      ],
      "source": [
        "from cc_search import assess_agent_vs_others"
      ]
    },
    {
      "cell_type": "code",
      "execution_count": 3,
      "metadata": {
        "id": "1YOuBZPwSk_F"
      },
      "outputs": [],
      "source": [
        "from cc_tools import DQNTorchPolicy,DQNTrainer,PPOTorchPolicy,PPOTrainer,A3CTorchPolicy,A3CTrainer\n",
        "from cc_tools import maximin_policy,ideal_selfplay_policy,random_agent\n",
        "from cc_tools import TFTAverage,RandomPolicy,IteratedPrisonersDilemma,IteratedBoS\n",
        "\n",
        "from cc_search import get_rllib_config_eval\n",
        "import numpy as np\n",
        "from ray import tune"
      ]
    },
    {
      "cell_type": "code",
      "execution_count": 4,
      "metadata": {},
      "outputs": [],
      "source": [
        "def reward_from_obs(obs_input,input_game):\n",
        "    if len(obs_input) != 1:\n",
        "        raise InterruptedError(\"Obs format is wrong, {}\".format(obs_input))\n",
        "    \n",
        "    obs_batch = obs_input[0]\n",
        "\n",
        "    if len(obs_batch) != 5:\n",
        "        raise InterruptedError(\"MGSD specification is wrong, {}\".format(obs_batch))\n",
        "    \n",
        "    act_number = int(np.where(obs_batch == 1)[0])\n",
        "    if act_number == 4:\n",
        "        return 0\n",
        "    acts = [[0,0],[0,1],[1,0],[1,1]]\n",
        "    action = acts[act_number]\n",
        "    \n",
        "    res= input_game[0]\n",
        "    RC = input_game[1]\n",
        "\n",
        "    if RC == 0:\n",
        "        result = res[action[0],action[1]]\n",
        "    elif RC == 1:\n",
        "        result = res[action[1],action[0]]\n",
        "    return result[RC]\n",
        "    \n",
        "    \n",
        "    "
      ]
    },
    {
      "cell_type": "code",
      "execution_count": 23,
      "metadata": {},
      "outputs": [],
      "source": [
        "from cc_search import BRToLastPolicy"
      ]
    },
    {
      "cell_type": "code",
      "execution_count": 36,
      "metadata": {},
      "outputs": [
        {
          "data": {
            "text/plain": [
              "(0, 1)"
            ]
          },
          "execution_count": 36,
          "metadata": {},
          "output_type": "execute_result"
        }
      ],
      "source": [
        "tes = BRToLastPolicy([],[],{\"SSD\" : (IteratedBoS.PAYOUT_MATRIX,0)})\n",
        "\n",
        "#tes.SSD_config[1]\n",
        "\n",
        "tes.reward_from_obs_br_to_last(np.array([[0,0,0,0,1]]))"
      ]
    },
    {
      "cell_type": "code",
      "execution_count": null,
      "metadata": {
        "id": "tJMhFKwTbZuh"
      },
      "outputs": [],
      "source": [
        "class LogPolicy_0(RandomPolicy):\n",
        "    \"\"\"Play the move that would beat the last move of the opponent.\"\"\"\n",
        "    def __init__(self, observation_space, action_space, config):\n",
        "        super().__init__(observation_space, action_space, config)\n",
        "        self.rew_memory = []\n",
        "        self.act_memory = []\n",
        "        self.obs_memory = []\n",
        "        self.num = 1\n",
        "        self.output = 0\n",
        "        self.random_out = False\n",
        "        self.SSD_config = config[\"SSD\"]\n",
        "\n",
        "    def update_target(self):\n",
        "        pass\n",
        "    def get_weights(self):\n",
        "        pass\n",
        "    def compute_actions(self,\n",
        "                        obs_batch,\n",
        "                        state_batches=None,\n",
        "                        prev_action_batch=None,\n",
        "                        prev_reward_batch=None,\n",
        "                        **kwargs):\n",
        "        input = obs_batch[0]\n",
        "        self.obs_memory.append(obs_batch)\n",
        "        self.rew_memory.append(prev_reward_batch)\n",
        "        self.act_memory.append(prev_action_batch)\n",
        "\n",
        "        output = self.output\n",
        "        n = 6\n",
        "\n",
        "        #print(\"Agent{}\".format(self.num),state_batches,prev_action_batch,prev_reward_batch)\n",
        "        #print(\"Agent{}\".format(self.num),input,output,flush=True)\n",
        "\n",
        "        rew_pred = reward_from_obs(obs_batch,self.SSD_config)\n",
        "\n",
        "        \"\"\"\n",
        "        if len(self.obs_memory)>n+1:\n",
        "            raise InterruptedError\n",
        "            #pass\n",
        "\n",
        "        if len(self.obs_memory)>n:\n",
        "            print()\n",
        "            for idx,_ in enumerate(self.obs_memory):\n",
        "                obs, reward,acts = self.obs_memory[idx],self.rew_memory[idx],self.act_memory[idx]\n",
        "                print(\"{}Agent{} {}: obs {}, reward {}={}, acts {}\".format(self.SSD_config[1],self.num,idx,obs,reward,reward_from_obs(obs,self.SSD_config),acts))\n",
        "        \"\"\"\n",
        "\n",
        "        #rew_pred = reward_from_obs(obs_batch,IteratedPrisonersDilemma.PAYOUT_MATRIX)\n",
        "        rew = float(prev_reward_batch)\n",
        "\n",
        "        assert (rew == rew_pred), \"R:{}, Rpred{}, obs_batch{}\".format(rew,rew_pred,obs_batch)\n",
        "\n",
        "        if self.random_out == True:\n",
        "            output = np.random.choice([0,1])\n",
        "\n",
        "\n",
        "        return np.array([output]), \\\n",
        "                [], {}\n",
        "\n",
        "class LogPolicy_1(LogPolicy_0):\n",
        "    \"\"\"Play the move that would beat the last move of the opponent.\"\"\"\n",
        "    def __init__(self, observation_space, action_space, config):\n",
        "        super().__init__(observation_space, action_space, config)\n",
        "        self.num = 2\n",
        "        self.output = 1\n",
        "\n",
        "class LogPolicy_rand(LogPolicy_0):\n",
        "    \"\"\"Play the move that would beat the last move of the opponent.\"\"\"\n",
        "    def __init__(self, observation_space, action_space, config):\n",
        "        super().__init__(observation_space, action_space, config)\n",
        "        self.num = 0\n",
        "        self.output = None\n",
        "        self.random_out = True\n",
        "\n",
        "test_pol = lambda x,y: LogPolicy_rand\n",
        "\n",
        "strategies = [test_pol]\n",
        "opponents = []"
      ]
    },
    {
      "cell_type": "code",
      "execution_count": null,
      "metadata": {},
      "outputs": [],
      "source": [
        "def test(agent1,agent2):\n",
        "    rllib_config, stop_config = get_rllib_config_eval(\n",
        "        seeds=[1],\n",
        "        steps=5,\n",
        "        game=IteratedBoS,\n",
        "        debug=False,\n",
        "        stop_iters=5,\n",
        "        policy_classes=[agent1,agent2],\n",
        "        checkpoint_paths=[]\n",
        "    )\n",
        "\n",
        "    rllib_config['env_config'].update({\"output_additional_info\":True})\n",
        "\n",
        "    tune_analysis = tune.run(\n",
        "        # Works with any Trainer but then using PGTrainer is more safe (simple training loop)... but PGTrainer doesn't work here for some reasons...\n",
        "        DQNTrainer,\n",
        "        # PPOTrainer,\n",
        "        config=rllib_config,\n",
        "        stop=stop_config,\n",
        "        checkpoint_at_end=True, verbose = 0\n",
        "    )\n",
        "\n",
        "#test(LogPolicy_rand,LogPolicy_rand)\n",
        "\n",
        "test(BRToLastPolicy,BRToLastPolicy)"
      ]
    },
    {
      "cell_type": "code",
      "execution_count": null,
      "metadata": {
        "id": "tUqfhC0CS4zF"
      },
      "outputs": [],
      "source": [
        "res1, res_full = assess_agent_vs_others(agent_trainer=(test_pol,None),opponents=[], strategies=[test_pol],steps=2)"
      ]
    }
  ],
  "metadata": {
    "colab": {
      "name": "obs_space.ipynb",
      "provenance": []
    },
    "kernelspec": {
      "display_name": "Python 3",
      "name": "python3"
    },
    "language_info": {
      "codemirror_mode": {
        "name": "ipython",
        "version": 3
      },
      "file_extension": ".py",
      "mimetype": "text/x-python",
      "name": "python",
      "nbconvert_exporter": "python",
      "pygments_lexer": "ipython3",
      "version": "3.7.6"
    }
  },
  "nbformat": 4,
  "nbformat_minor": 0
}
